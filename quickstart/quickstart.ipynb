{
 "cells": [
  {
   "cell_type": "markdown",
   "metadata": {},
   "source": [
    "# VideoDb QuickStart \n",
    "\n",
    "<a href=\"https://colab.research.google.com/github/video-db/videodb-cookbook/blob/main/quickstart/quickstart.ipynb\" target=\"_parent\"><img src=\"https://colab.research.google.com/assets/colab-badge.svg\" alt=\"Open In Colab\"/></a>\n",
    "\n",
    "Videodb is a specialized database tailored for multimedia content.   \n",
    "It allows you to store **videos as data**, enabling easy retrieval, streaming, and querying, much like how you would manage text data in a conventional database.\n",
    "\n",
    "This notebook is designed to help you get started with videodb.   \n",
    "For more information, please refer to the documentation available at [docs.videodb.io](https://docs.videodb.io)"
   ]
  },
  {
   "cell_type": "markdown",
   "metadata": {},
   "source": [
    "<div style=\"height:40px;\"></div>\n",
    "\n",
    "## Setup\n",
    "---  "
   ]
  },
  {
   "cell_type": "markdown",
   "metadata": {},
   "source": [
    "\n",
    "### 🔧 Installing videodb in your environment\n",
    "\n",
    "Videodb is available as [python package 📦](https://pypi.org/project/videodb)  "
   ]
  },
  {
   "cell_type": "code",
   "execution_count": null,
   "metadata": {},
   "outputs": [],
   "source": [
    "!pip install videodb"
   ]
  },
  {
   "cell_type": "markdown",
   "metadata": {},
   "source": [
    "### 🔗 Setting Up a connection to db\n",
    "To connect to Videodb, simply create a `Connection` object. \n",
    "\n",
    "This can be done by either providing your Videodb API key directly to the constructor or by setting the `VIDEO_DB_API_KEY` environment variable with your API key. \n",
    "\n",
    "> Your API key is available in the [Videodb dashboard](https://console.videodb.io)."
   ]
  },
  {
   "cell_type": "code",
   "execution_count": 8,
   "metadata": {},
   "outputs": [],
   "source": [
    "import videodb\n",
    "import os\n",
    "\n",
    "VIDEO_DB_API_KEY = os.environ.get(\"VIDEO_DB_API_KEY\", \"\")\n",
    "base_url = \"https://api.videodb.io\"\n",
    "conn = videodb.connect(base_url=base_url, api_key=VIDEO_DB_API_KEY)"
   ]
  },
  {
   "cell_type": "markdown",
   "metadata": {},
   "source": [
    "<div style=\"height:40px;\"></div>\n",
    "\n",
    "## Working with a single Video\n",
    "---"
   ]
  },
  {
   "cell_type": "markdown",
   "metadata": {},
   "source": [
    "<div style=\"height:10px;\"></div>\n",
    "\n",
    "### ⬆️ Uploading a video\n",
    "Now that you have established a connection to videodb, you can now upload your videos using `Connection.upload()`.\n",
    "\n",
    "You can upload a video to videodb in following ways\n",
    "- By passing `url` to `Connection.upload` if video is available as a url\n",
    "- By passing `file_path` to `Connection.upload` if its on your file system   \n",
    "\n",
    "`Connection.upload` returns a `Video` Object, which can be used to access video\n",
    "\n",
    "\n",
    "> Videodb utilizes the concept of collections to organize videos.   \n",
    "> By default, videos are uploaded to your default collection, but they can be separated into different collections for better organization."
   ]
  },
  {
   "cell_type": "code",
   "execution_count": 31,
   "metadata": {},
   "outputs": [],
   "source": [
    "#Upload a video by url\n",
    "vid1 = conn.upload(url=\"https://www.youtube.com/watch?v=WDv4AWk0J3U\")\n",
    "\n",
    "#Upload a video from file system\n",
    "#vid2 = conn.upload(file_path=\"./my_video.mp4\")"
   ]
  },
  {
   "cell_type": "markdown",
   "metadata": {},
   "source": [
    "<div style=\"height:15px;\"></div>\n",
    "\n",
    "### 📺 Viewing your video\n",
    "\n",
    "Viewing your video is very simple. its instantly available and reading to use without the need of rendering ⚡️\n",
    "\n",
    "- Get preview url from video db using `Video.get_stream()`\n",
    "- Use videodb preview player to play the video, \n",
    "- You can embed this player in your product/website using an iframe\n",
    "\n",
    "For this demo guide, we will embed videodb player in this notebook using `Ipython.display.IFrame`\n",
    "\n",
    "<div style=\"background-color: #ffffcc; color: black; padding: 10px; border-radius: 5px;\">\n",
    "    <strong>Note:</strong>if you are viewing this notebook on github, you won't be able to see iframe player, because of security restrictions. <br> \n",
    "    Please open the printed link of player in your browser</div>\n"
   ]
  },
  {
   "cell_type": "code",
   "execution_count": 13,
   "metadata": {},
   "outputs": [
    {
     "name": "stdout",
     "output_type": "stream",
     "text": [
      "https://console.videodb.io/player?url=https://dseetlpshk2tb.cloudfront.net/v3/published/manifests/9f398379-317f-4c33-a105-bf88be428480.m3u8\n"
     ]
    },
    {
     "data": {
      "text/html": [
       "\n",
       "        <iframe\n",
       "            width=\"800\"\n",
       "            height=\"400\"\n",
       "            src=\"https://console.videodb.io/player?url=https://dseetlpshk2tb.cloudfront.net/v3/published/manifests/9f398379-317f-4c33-a105-bf88be428480.m3u8\"\n",
       "            frameborder=\"0\"\n",
       "            allowfullscreen\n",
       "            \n",
       "        ></iframe>\n",
       "        "
      ],
      "text/plain": [
       "<IPython.lib.display.IFrame at 0x7ff408abc2b0>"
      ]
     },
     "execution_count": 13,
     "metadata": {},
     "output_type": "execute_result"
    }
   ],
   "source": [
    "from IPython.display import IFrame, HTML\n",
    "\n",
    "stream_link = vid1.get_stream()\n",
    "player_base = \"https://console.videodb.io/player\"\n",
    "player_url = f\"{player_base}?url={stream_link}\"\n",
    "print(player_url)\n",
    "\n",
    "\n",
    "player_width = 800\n",
    "player_height = 400\n",
    "\n",
    "IFrame(player_url, player_width, player_height)"
   ]
  },
  {
   "cell_type": "markdown",
   "metadata": {},
   "source": [
    "<div style=\"height:15px;\"></div>\n",
    "\n",
    "### 🔍 Searching inside a video\n",
    " Searching inside a video is super easy with videodb  \n",
    "  \n",
    "  \n",
    "**Index & Search inside Video** :    \n",
    "  \n",
    "You can **semantically** index a video and perform search operations. Use following function in sequence\n",
    "- `Video.get_transcript()`  - gets a transcript for video  \n",
    "\n",
    "- `Video.index_spoken_words()`  - Indexes the video semantically   \n",
    "- `Video.search(\"Morning Sunlight\")`  - Performs a search query on video  \n",
    "     \n",
    "  \n",
    "    \n",
    "    \n",
    "**Viewing Search Results** :   \n",
    "  \n",
    "`Video.search()` will return a `SearchResults` Object, which contains the sections/shots of videos which semantically match your search query\n",
    "- `SearchResults.get_shots()` - Returns a list of `Shot` that matched search query \n",
    "\n",
    "- `SearchResults.compile()` - Returns a stream link which a compilation of all shots (this also can be viewing in videodb player)"
   ]
  },
  {
   "cell_type": "code",
   "execution_count": 33,
   "metadata": {},
   "outputs": [
    {
     "name": "stdout",
     "output_type": "stream",
     "text": [
      "Compile Results for Query Morning Sunlight https://console.videodb.io/player?url=https://dseetlpshk2tb.cloudfront.net/v3/published/manifests/5a4d5983-a0f5-4109-9ae8-6370e375e4e8.m3u8\n"
     ]
    }
   ],
   "source": [
    "query = \"Morning Sunlight\"\n",
    "player_base = \"https://console.videodb.io/player\"\n",
    "\n",
    "## Index the video for Semantic Search\n",
    "vid1.get_transcript()\n",
    "vid1.index_spoken_words()\n",
    "\n",
    "## Search and view results\n",
    "search_results = vid1.search(\"Morning Sunlight\")\n",
    "compiled_result = search_results.compile()\n",
    "\n",
    "## View the result in Videodb Player\n",
    "player_url = f\"{player_base}?url={compiled_result}\"\n",
    "print(f\"Compile Results for Query {query}\", player_url)"
   ]
  },
  {
   "cell_type": "markdown",
   "metadata": {},
   "source": [
    "<div style=\"height:15px;\"></div>\n",
    "\n",
    "### 🌟 More Methods on `Video` Object\n",
    "There are mutiple methods available on a `Video` Object, that can be helpful for your usecase \n",
    "\n",
    "**Get Specific Sections of Videos:** :   \n",
    "- `Video.get_stream(timeline=[[0,10]])` : Clip specific sections of a video by passing `timeline`. This returns a stream url (again, it can played via videodb player as shown above)\n",
    "\n",
    "**Add Subtitle to Video**  :\n",
    "- `Video.add_subtitle()` : Adds subtitles to video. This returns a stream url. (playable by videodb player)\n",
    "\n",
    "**Get Thumbnail of Video**  :\n",
    "- `Video.get_thumbnail()` : Returns a thumbnail image of video.\n",
    "\n",
    "**Delete a video** :\n",
    "- `Video.delete()` : Delete a video from Collection\n"
   ]
  },
  {
   "cell_type": "code",
   "execution_count": 28,
   "metadata": {},
   "outputs": [
    {
     "name": "stdout",
     "output_type": "stream",
     "text": [
      "Clip Preview https://console.videodb.io/player?url=https://dseetlpshk2tb.cloudfront.net/v3/published/manifests/8a92ce5f-2b34-45a7-ae64-65223db4b444.m3u8\n",
      "Subtitle Preview https://console.videodb.io/player?url=https://dseetlpshk2tb.cloudfront.net/v3/published/manifests/a2647558-510c-4411-ae46-3da410172a48.m3u8\n"
     ]
    }
   ],
   "source": [
    "## View the result in Videodb Player\n",
    "player_base = \"https://console.videodb.io/player\"\n",
    "\n",
    "# Create a clip from 0 to 50s\n",
    "clip_1 = vid1.get_stream(timeline=[[0, 50]])\n",
    "\n",
    "# View Clip\n",
    "clip_1_preview = f\"{player_base}?url={clip_1}\"\n",
    "print(\"Clip Preview\", clip_1_preview)\n",
    "\n",
    "\n",
    "# Add Subtitle\n",
    "subtitled_video = vid1.add_subtitle()\n",
    "\n",
    "# View Subtitled Video \n",
    "subtitle_preview = f\"{player_base}?url={subtitled_video}\"\n",
    "print(\"Subtitle Preview\", subtitle_preview)\n",
    "\n",
    "# Delete Video\n",
    "subtitled_video = vid1.delete()\n"
   ]
  },
  {
   "cell_type": "markdown",
   "metadata": {},
   "source": [
    "<div style=\"height:40px;\"></div>\n",
    "\n",
    "## Working with Multiple Videos\n",
    "---\n",
    "Videodb uses Collection to store Videos   \n",
    "By default, videos are uploaded to your default collection, but they can be separated into different collections for better organization."
   ]
  },
  {
   "cell_type": "markdown",
   "metadata": {},
   "source": [
    "<div style=\"height:15px;\"></div>\n",
    "\n",
    "### 🔄 Using Collection to Fetch, Upload Mutliple Videos\n",
    "- `Connection.get_collection()` : Returns `Collection` Object, the default collection \n",
    "\n",
    "- `Collection.upload()` : Returns `Video` Object, uploads the video to collection\n",
    "- `Collection.get_videos()` : Returns list of `Video`, all videos in collections  \n",
    "- `Collection.get_video(video_id)`: Returns `Video`, respective video object from give `video_id`   \n",
    "- `Collection.delete_video(video_id)`: Deltes the video from Collection  "
   ]
  },
  {
   "cell_type": "code",
   "execution_count": null,
   "metadata": {},
   "outputs": [],
   "source": [
    "# Get a collection\n",
    "default_coll = conn.get_collection()\n",
    "\n",
    "# Upload Videos to a collection\n",
    "default_coll.upload(url=\"https://www.youtube.com/watch?v=lsODSDmY4CY\")\n",
    "default_coll.upload(url=\"https://www.youtube.com/watch?v=vZ4kOr38JhY\")\n",
    "default_coll.upload(url=\"https://www.youtube.com/watch?v=uak_dXHh6s4\")\n",
    "default_coll.upload(url=\"https://www.youtube.com/watch?v=S8nPJU9xkNw\")\n",
    "\n",
    "all_videos = default_coll.get_videos()\n",
    "for video in all_videos:\n",
    "    print(video.id)\n"
   ]
  },
  {
   "cell_type": "markdown",
   "metadata": {},
   "source": [
    "<div style=\"height:15px;\"></div>\n",
    "\n",
    "### 📂 Search on Multiple Videos from a collection\n",
    "- `Collection.search()` :  Returns `SearchResults`; Search on collection of videos"
   ]
  },
  {
   "cell_type": "code",
   "execution_count": null,
   "metadata": {},
   "outputs": [],
   "source": [
    "query = \"Dopamine\"\n",
    "player_base = \"https://console.videodb.io/player\"\n",
    "\n",
    "# Index all videos in collection\n",
    "for video in default_coll.get_videos():\n",
    "    video.get_transcript()\n",
    "    video.index_spoken_words()\n",
    "\n",
    "\n",
    "search_results =default_coll.search(query)\n",
    "compiled_result = search_results.compile()\n",
    "\n",
    "## View the result in Videodb Player\n",
    "player_url = f\"{player_base}?url={compiled_result}\"\n",
    "print(f\"Compile Results for Query {query}\", player_url)"
   ]
  },
  {
   "cell_type": "markdown",
   "metadata": {},
   "source": [
    "<div style=\"height:40px;\"></div>\n",
    "\n",
    "## Further References\n",
    "---\n",
    "- You can find more tutorials here in this repository\n",
    "- Checkout [videodb.io](https://videodb.io) for latest updates and features\n"
   ]
  }
 ],
 "metadata": {
  "kernelspec": {
   "display_name": "venv",
   "language": "python",
   "name": "python3"
  },
  "language_info": {
   "codemirror_mode": {
    "name": "ipython",
    "version": 3
   },
   "file_extension": ".py",
   "mimetype": "text/x-python",
   "name": "python",
   "nbconvert_exporter": "python",
   "pygments_lexer": "ipython3",
   "version": "3.9.12"
  }
 },
 "nbformat": 4,
 "nbformat_minor": 2
}

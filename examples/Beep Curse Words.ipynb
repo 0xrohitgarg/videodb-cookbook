{
 "cells": [
  {
   "cell_type": "markdown",
   "id": "4e0866fd-c600-4eba-8649-a8bb94ab591e",
   "metadata": {},
   "source": [
    "### Overview\n",
    " \n",
    "VideoDB's [Programmable Streams]((https://docs.videodb.io/version-0-0-3-timeline-and-assets-44)) are perfect for personalizing content to meet users' requirements. If users prefer not to include curse words in their content, VideoDB allows for these words to be either removed or replaced with a sound overlay such as beep sound. \n",
    "\n",
    "This task, typically complex for video editors, can be accomplished with just **a few lines of code** using VideoDB. x\n",
    "\n",
    "This technique can also serve as a valuable **Content Moderation** component for any social content platform, ensuring that content meets the preferences and standards of its audience. \n",
    "\n",
    "Let's dive in!"
   ]
  },
  {
   "cell_type": "code",
   "execution_count": 10,
   "id": "b22e22c5-2110-4720-8530-9527cf1cf789",
   "metadata": {},
   "outputs": [
    {
     "name": "stdout",
     "output_type": "stream",
     "text": [
      "Requirement already satisfied: videodb in /Users/ashu/opt/anaconda3/envs/videoDB/lib/python3.12/site-packages (0.0.3)\n",
      "Requirement already satisfied: requests>=2.25.1 in /Users/ashu/opt/anaconda3/envs/videoDB/lib/python3.12/site-packages (from videodb) (2.31.0)\n",
      "Requirement already satisfied: backoff>=2.2.1 in /Users/ashu/opt/anaconda3/envs/videoDB/lib/python3.12/site-packages (from videodb) (2.2.1)\n",
      "Requirement already satisfied: tqdm>=4.66.1 in /Users/ashu/opt/anaconda3/envs/videoDB/lib/python3.12/site-packages (from videodb) (4.66.1)\n",
      "Requirement already satisfied: charset-normalizer<4,>=2 in /Users/ashu/opt/anaconda3/envs/videoDB/lib/python3.12/site-packages (from requests>=2.25.1->videodb) (3.3.2)\n",
      "Requirement already satisfied: idna<4,>=2.5 in /Users/ashu/opt/anaconda3/envs/videoDB/lib/python3.12/site-packages (from requests>=2.25.1->videodb) (3.6)\n",
      "Requirement already satisfied: urllib3<3,>=1.21.1 in /Users/ashu/opt/anaconda3/envs/videoDB/lib/python3.12/site-packages (from requests>=2.25.1->videodb) (2.2.0)\n",
      "Requirement already satisfied: certifi>=2017.4.17 in /Users/ashu/opt/anaconda3/envs/videoDB/lib/python3.12/site-packages (from requests>=2.25.1->videodb) (2024.2.2)\n"
     ]
    }
   ],
   "source": [
    "#update to latest version\n",
    "!pip install -U videodb"
   ]
  },
  {
   "cell_type": "markdown",
   "id": "7a711405-6067-451e-9daf-b16aa82005e7",
   "metadata": {},
   "source": [
    "### Prerequisites\n",
    "Ensure you have VideoDB installed in your environment. If not, simply run `!pip install videodb` in your terminal. \n",
    "\n",
    "You'll also need a `VideoDB API key`, which can be obtained from the VideoDB console."
   ]
  },
  {
   "cell_type": "code",
   "execution_count": 3,
   "id": "3c5d3ea5-e80c-4381-b768-6a90cf96f302",
   "metadata": {},
   "outputs": [],
   "source": [
    "# create a new connection with your API ket\n",
    "from videodb import connect, play_stream\n",
    "conn = connect(api_key=\"\")"
   ]
  },
  {
   "cell_type": "markdown",
   "id": "a85ec0bb-4e5b-4f5e-8be7-d9e23ce1f1c9",
   "metadata": {},
   "source": [
    "### Source Content\n",
    "\n",
    "For this tutorial, let's take the Joe Rogan clip, where he is trying to trick siri into using curse words 🤣"
   ]
  },
  {
   "cell_type": "code",
   "execution_count": 2,
   "id": "b474953a-178d-4e91-886a-42b7d9211480",
   "metadata": {},
   "outputs": [],
   "source": [
    "# Joe rogan video clip\n",
    "video = conn.upload(url='https://www.youtube.com/watch?v=7MV6tUCUd-c')"
   ]
  },
  {
   "cell_type": "code",
   "execution_count": 9,
   "id": "4c9f5bac-a7d0-4cc2-bc0a-6dc03eb04367",
   "metadata": {},
   "outputs": [
    {
     "data": {
      "text/plain": [
       "'https://console.videodb.io/player?url=https://stream.videodb.io/v3/published/manifests/53db55a5-8fb1-44a0-b8c2-62cc1b4be532.m3u8'"
      ]
     },
     "execution_count": 9,
     "metadata": {},
     "output_type": "execute_result"
    }
   ],
   "source": [
    "#watch the original video\n",
    "o_stream = video.generate_stream()\n",
    "play_stream(o_stream)"
   ]
  },
  {
   "cell_type": "code",
   "execution_count": 3,
   "id": "d53afa75-5438-4a7b-b0ea-0ad09c03c517",
   "metadata": {
    "scrolled": true
   },
   "outputs": [
    {
     "name": "stderr",
     "output_type": "stream",
     "text": [
      "100%|███████████████████████████████████████████████████████████████████████████\n"
     ]
    }
   ],
   "source": [
    "# index spoken content in the video\n",
    "video.index_spoken_words()"
   ]
  },
  {
   "cell_type": "markdown",
   "id": "93706b90-e4a1-45ed-ba32-01d6a55af752",
   "metadata": {},
   "source": [
    "### Create `beep` Asset\n",
    "\n",
    "We have a sample beep sound in this folder, `beep.wav`. For those looking to add a more playful or unique touch, replacing the beep with alternative sound effects, such as a quack or any other sound, can make the content more engaging and fun."
   ]
  },
  {
   "cell_type": "code",
   "execution_count": 5,
   "id": "34852693-5717-4251-a7fe-5615a388ed5a",
   "metadata": {},
   "outputs": [],
   "source": [
    "# upload beep sound - This is just a sample, you can replace it with quack or any other sound effect.\n",
    "beep = conn.upload(file_path=\"beep.wav\")"
   ]
  },
  {
   "cell_type": "code",
   "execution_count": 6,
   "id": "96f4b4f4-e085-4e67-babc-b4ba8f9a98ff",
   "metadata": {},
   "outputs": [],
   "source": [
    "# Import Asset and Timeline\n",
    "from videodb.asset import VideoAsset, AudioAsset\n",
    "from videodb.timeline import Timeline"
   ]
  },
  {
   "cell_type": "code",
   "execution_count": 7,
   "id": "30634d3a-ad33-428d-9c2f-a088f96f81a5",
   "metadata": {},
   "outputs": [
    {
     "data": {
      "text/plain": [
       "AudioAsset(asset_id=a-2bb25fdb-e351-4fde-918c-15f260e6a740, start=0, end=None, disable_other_tracks=True, fade_in_duration=0, fade_out_duration=0)"
      ]
     },
     "execution_count": 7,
     "metadata": {},
     "output_type": "execute_result"
    }
   ],
   "source": [
    "#create audio asset from beep sound, \n",
    "AudioAsset(asset_id=beep.id)"
   ]
  },
  {
   "cell_type": "markdown",
   "id": "0b0c9be3-f27f-43c8-9952-13a87b9c02a7",
   "metadata": {},
   "source": [
    "### Moderation\n",
    "To ensure appropriate content management, it's necessary to have a method for identifying profanity and applying a predefined overlay to censor it. In this tutorial, we've included a list of curse words. Feel free to customize this list according to your requirements.\n"
   ]
  },
  {
   "cell_type": "code",
   "execution_count": 9,
   "id": "c190cc4e-8a94-4fe0-a448-6fb36f47ed33",
   "metadata": {},
   "outputs": [],
   "source": [
    "curse_words_list = ['shit', 'ass', 'shity' 'fuck', 'motherfucker','damn', 'fucking', 'motherfuker']"
   ]
  },
  {
   "cell_type": "code",
   "execution_count": 8,
   "id": "8c4b842f-5c19-44b4-9657-1ece2bec23a0",
   "metadata": {
    "scrolled": true
   },
   "outputs": [
    {
     "data": {
      "text/plain": [
       "\"Give a lot of home like Siri and Alexis at your house out of that fat ass whole thing, or is that hole that you can make some serious a motherfuker seriously motherfuker. Yeah people think I was joking about that. Let me show you how to do that. Watch this box. Here we go. What is the definition? What's the definition of mother? Come on, you piece of shit. Play 2 Chainz. I'm sorry about that. What's the definition of mother? She has given birth. Do you want to hear the next one? Yes. it means child Yes. What's a verb that means give birth to? Oh my God, Siri, bitch, you took it from me and moved it and then take it out. Do they take out the dead body one. Remember the first one that's a crazy one short for motherfuker. It would say as a no. Think I tweeted what it said what exactly it said. Yeah, I did it. I did it today you did and it took me a couple tries cuz I didn't say it, right. But I ended up doing it. Did it says as a noun short for motherfuker, but it could be a verb as well. Right. Yeah, if you're actually a mother fucker ass here with mother means that gives you the correct definition then asked you do you want to the next one you say? Yes, it says as a noun it means short for motherfuker. Yeah, I got it. Right but it was weird to hear like I heard it. I was like what that's real like a mash-up that's like your mom and she's like teaching a little kid how to use Siri like Mommy. How do I know where Mommy is? Well, we can ask Siri sweetie. We can ask Siri what mother means Do you want to hear the next 10K as a noun short from mother? A little kid like what did they say? Is Santa real? I'm going to pretend you didn't ask that I don't want you to get a lump of coal this year. Alexa tells you and uses the shares a needle. Siri are you allowed to swear? I just want to know if you stopped using curse words recently. I'm not sure I understand. Well earlier in this week. I had asked you what mother means and you gave me one definition then you had you said do you? The next one and you said as of now and it made short for motherfuker, I just thought that was weird. Siri you sound like a crazy person. I've been trying to talk to you about this issue that you and I are having about communication. And what do you say to me? You say that's not nice. What's not nice for you to say motherfuker in front of that little three-year-old. Just learn how to talk. Well, this is the future. This is the future. We're going to be having arguments with our our digital devices like that. That's a crude like helper. I get super crude helper, right like what Siri can do now? It's very crude. But this is just like the iPhone one right? Maybe I can keep up the conversation for sure that's going to\""
      ]
     },
     "execution_count": 8,
     "metadata": {},
     "output_type": "execute_result"
    }
   ],
   "source": [
    "# let's review transcript \n",
    "video.get_transcript_text()"
   ]
  },
  {
   "cell_type": "markdown",
   "id": "efca6441-1bcc-4851-a661-0e4a48170574",
   "metadata": {},
   "source": [
    "### Find Curse Words\n",
    "We'll use few NLP techniques to identify all variations of any offensive words, eliminating the need to manually find and include each form. Additionally, by analyzing the transcript, you can gain insights into how these sounds are transcribed, acknowledging the possibility of errors. "
   ]
  },
  {
   "cell_type": "code",
   "execution_count": null,
   "id": "9eacac4e-7e13-40b9-8400-dc44b74a9278",
   "metadata": {},
   "outputs": [],
   "source": [
    "#install spacy\n",
    "!pip install spacy"
   ]
  },
  {
   "cell_type": "code",
   "execution_count": null,
   "id": "42fc4afe-d4ff-4c94-8bb2-24625faa601b",
   "metadata": {},
   "outputs": [],
   "source": [
    "#install dataset english core\n",
    "!python -m spacy download en_core_web_sm"
   ]
  },
  {
   "cell_type": "code",
   "execution_count": 10,
   "id": "4f5e93cf-61b3-44f2-83ec-65956359052d",
   "metadata": {},
   "outputs": [],
   "source": [
    "# load the english corpus \n",
    "import spacy\n",
    "import re\n",
    "nlp = spacy.load(\"en_core_web_sm\")"
   ]
  },
  {
   "cell_type": "code",
   "execution_count": 1,
   "id": "af6001f1-4bea-47fd-babc-fe1d7baf2ed5",
   "metadata": {},
   "outputs": [],
   "source": [
    "def get_root_word(word):\n",
    "    \"\"\"\n",
    "    This function convert each word into its root word\n",
    "    \"\"\"\n",
    "    try:\n",
    "        #clean punctuations \n",
    "        cleaned_word = re.sub(r'[^\\w\\s]', '', word)\n",
    "        \n",
    "        # Process the sentence\n",
    "        doc = nlp(cleaned_word)\n",
    "        \n",
    "        # Lemmatize the word\n",
    "        lemmatized_word = [token.lemma_ for token in doc][0]  # Assuming single word input\n",
    "    \n",
    "        return lemmatized_word\n",
    "    except Exception as e:\n",
    "        print(f\"some issue with lemma for the word {word}\")\n",
    "        return word"
   ]
  },
  {
   "cell_type": "markdown",
   "id": "812016cc-61d2-40bd-a253-6cb2398f4898",
   "metadata": {},
   "source": [
    "### Review Transcript\n",
    "\n",
    "Let's review transcript once again, and double check if we want to beep any other word"
   ]
  },
  {
   "cell_type": "code",
   "execution_count": 12,
   "id": "855abba9-7f91-43e5-a123-f1a4e00bed3a",
   "metadata": {},
   "outputs": [],
   "source": [
    "transcript = video.get_transcript()\n",
    "transcript"
   ]
  },
  {
   "cell_type": "code",
   "execution_count": 14,
   "id": "a1d03a9c-e183-4fde-978b-9d6e333de110",
   "metadata": {},
   "outputs": [],
   "source": [
    "# add more words that you want to beep\n",
    "curse_words_list.append('hole')\n",
    "curse_words_list.append('bitch')\n",
    "curse_words_list.append('mother')"
   ]
  },
  {
   "cell_type": "markdown",
   "id": "4071bee3-1c45-4e19-8175-83e92f3ab84e",
   "metadata": {},
   "source": [
    "### Create Fresh Timeline\n",
    "\n",
    "Let's create a fresh timeline object and add the VideoAsset created from the original video inline. Loop through each word, wherever you match the word, add audio overlay created from the beep sound for that timestamp. It's that simple!\n",
    "\n"
   ]
  },
  {
   "cell_type": "code",
   "execution_count": 15,
   "id": "42635a2f-585d-42c3-80e2-49884256915d",
   "metadata": {},
   "outputs": [
    {
     "name": "stdout",
     "output_type": "stream",
     "text": [
      "beep the word: ass, 3.9:4.1 \n",
      "beep the word: hole, 5.0:5.5 \n",
      "beep the word: motherfuker, 7.7:9.5 \n",
      "beep the word: motherfuker., 11.2:11.9 \n",
      "beep the word: mother?, 34.5:34.9 \n",
      "beep the word: shit., 36.6:36.7 \n",
      "beep the word: mother?, 44.6:45.0 \n",
      "beep the word: bitch,, 66.6:67.1 \n",
      "beep the word: motherfuker., 82.8:83.6 \n",
      "beep the word: motherfuker,, 105.4:106.1 \n",
      "beep the word: mother, 111.7:111.9 \n",
      "beep the word: ass, 112.2:113.1 \n",
      "beep the word: mother, 113.5:113.8 \n",
      "beep the word: motherfuker., 119.9:120.4 \n",
      "beep the word: mother, 138.9:139.2 \n",
      "beep the word: mother?, 149.5:149.8 \n",
      "beep the word: mother, 195.5:196.1 \n",
      "beep the word: motherfuker,, 204.3:205.1 \n",
      "beep the word: motherfuker, 225.0:225.7 \n"
     ]
    }
   ],
   "source": [
    "# create a new Timeline object\n",
    "timeline = Timeline(conn)\n",
    "\n",
    "# add the main video inline\n",
    "video_asset = VideoAsset(asset_id=video.id)\n",
    "timeline.add_inline(video_asset)\n",
    "\n",
    "for word in transcript:\n",
    "    text = word.get('text')\n",
    "    if text not in ['-']:\n",
    "        root_word = get_root_word(text)\n",
    "        if root_word in curse_words_list:\n",
    "            beep_start_time = float(word.get('start'))\n",
    "            beep_end_time = float(word.get('end'))\n",
    "            beep_duration = beep_end_time - beep_start_time\n",
    "            \n",
    "            #add asset overlay of beep duration\n",
    "            print(f\"beep the word: {text}, {beep_start_time}:{beep_end_time} \")\n",
    "            timeline.add_overlay(start=beep_start_time, asset=AudioAsset(asset_id=beep.id,start=0, end=beep_duration))\n",
    "            \n",
    "stream_url = timeline.generate_stream()"
   ]
  },
  {
   "cell_type": "markdown",
   "id": "e87aad07-fbc9-4fc3-8621-c3543d251701",
   "metadata": {},
   "source": [
    "### Review and Share Your Moderated Video\n",
    "Finally, watch and share your new stream:"
   ]
  },
  {
   "cell_type": "code",
   "execution_count": 16,
   "id": "8e598cc1-42ab-4d16-9e70-cbc45d83d5aa",
   "metadata": {},
   "outputs": [
    {
     "data": {
      "text/plain": [
       "'https://console.videodb.io/player?url=https://stream.videodb.io/v3/published/manifests/a49074ce-e024-4d0e-96ef-8a2ab67c5fd3.m3u8'"
      ]
     },
     "execution_count": 16,
     "metadata": {},
     "output_type": "execute_result"
    }
   ],
   "source": [
    "from videodb import play_stream\n",
    "play_stream(stream_url)"
   ]
  },
  {
   "cell_type": "markdown",
   "id": "d8fe1943-bfbc-4cff-b81a-0ea8e1b0c14e",
   "metadata": {},
   "source": [
    "### The Real Power of Programmable Streams \n",
    "If you have videos pre-uploaded and indexed, running this beep pipeline is in real-time. So, based on your users' choices or your platform's policy, you can use information from spoken content to automatically moderate."
   ]
  }
 ],
 "metadata": {
  "kernelspec": {
   "display_name": "Python 3 (ipykernel)",
   "language": "python",
   "name": "python3"
  },
  "language_info": {
   "codemirror_mode": {
    "name": "ipython",
    "version": 3
   },
   "file_extension": ".py",
   "mimetype": "text/x-python",
   "name": "python",
   "nbconvert_exporter": "python",
   "pygments_lexer": "ipython3",
   "version": "3.12.0"
  }
 },
 "nbformat": 4,
 "nbformat_minor": 5
}

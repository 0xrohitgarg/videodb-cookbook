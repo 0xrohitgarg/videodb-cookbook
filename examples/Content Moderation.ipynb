{
 "cells": [
  {
   "cell_type": "markdown",
   "metadata": {},
   "source": [
    "### Effortlessly Remove Unwanted Content from videos with VideoDB: Say Goodbye to Inappropriate Sections\n",
    "\n",
    "[VideoDB](https://videodb.io) gives you power to choose any bits from any video in an instant. If you are streaming a content that has unwanted section for minors and NSFW content, you can easily skip that by just identifying the timeline where unwanted content exists and videoDB would take care of your stream to skip those secions."
   ]
  },
  {
   "cell_type": "markdown",
   "metadata": {},
   "source": [
    "### Workflow\n",
    "---\n",
    "\n",
    "1. Let's use a 10-minute video from the TV show \"The Breaking Bad,\" aiming to remove sections from video which might not be appropriate for all viewers. You can view the clip [here](https://www.youtube.com/watch?v=Xa7UaHgOGfM)\n",
    "2. We've identified specific times when inappropriate video content appears. This was achieved using AWS Rekognition API. If you're curious about the full process, including how to find visual inappropriate content in a video, check out our [blog](https://docs.videodb.io/ensure-a-safe-and-family-friendly-viewing-experience-with-videod-6) where we walk through the entire process.\n",
    "3. In this notebook, we're going to skip the details of video analysis and jump straight to the timestamps.\n",
    "4. We've identified the appearances of visually inappropriate content, and then relatively computed the section of video which are safe.\n",
    "5. Next, we'll upload the video to VideoDB and use these timestamps to clip the video. "
   ]
  },
  {
   "cell_type": "markdown",
   "metadata": {},
   "source": [
    "<div style=\"height:40px;\"></div>\n",
    "\n",
    "### Setup\n",
    "---  "
   ]
  },
  {
   "cell_type": "markdown",
   "metadata": {},
   "source": [
    "#### 🔧 Installing VideoDB in your environment\n",
    "\n",
    "VideoDB is available as [python package 📦](https://pypi.org/project/videodb)  \n",
    "Get your API key from [VideoDB Console](https://console.videodb.io). ( Free for first 50 uploads, No credit card required ) 🎉"
   ]
  },
  {
   "cell_type": "code",
   "execution_count": 1,
   "metadata": {},
   "outputs": [
    {
     "name": "stdout",
     "output_type": "stream",
     "text": [
      "Requirement already satisfied: videodb in /Users/ashu/videodb/videodb-python (0.0.2)\n",
      "Requirement already satisfied: requests>=2.25.1 in /Users/ashu/opt/anaconda3/envs/videoDB/lib/python3.12/site-packages (from videodb) (2.31.0)\n",
      "Requirement already satisfied: backoff>=2.2.1 in /Users/ashu/opt/anaconda3/envs/videoDB/lib/python3.12/site-packages (from videodb) (2.2.1)\n",
      "Requirement already satisfied: charset-normalizer<4,>=2 in /Users/ashu/opt/anaconda3/envs/videoDB/lib/python3.12/site-packages (from requests>=2.25.1->videodb) (3.3.2)\n",
      "Requirement already satisfied: idna<4,>=2.5 in /Users/ashu/opt/anaconda3/envs/videoDB/lib/python3.12/site-packages (from requests>=2.25.1->videodb) (3.6)\n",
      "Requirement already satisfied: urllib3<3,>=1.21.1 in /Users/ashu/opt/anaconda3/envs/videoDB/lib/python3.12/site-packages (from requests>=2.25.1->videodb) (2.1.0)\n",
      "Requirement already satisfied: certifi>=2017.4.17 in /Users/ashu/opt/anaconda3/envs/videoDB/lib/python3.12/site-packages (from requests>=2.25.1->videodb) (2023.11.17)\n"
     ]
    }
   ],
   "source": [
    "!pip install videodb"
   ]
  },
  {
   "cell_type": "markdown",
   "metadata": {},
   "source": [
    "#### 🔗 Setting Up a connection to db\n",
    "To connect to VideoDB, simply create a `Connection` object. \n",
    "\n",
    "This can be done by either providing your VideoDB API key directly to the constructor or by setting the `VIDEO_DB_API_KEY` environment variable with your API key. \n",
    "\n",
    ">💡\n",
    ">Get your API key from [VideoDB Console](https://console.videodb.io). ( Free for first 50 uploads, No credit card required ) 🎉."
   ]
  },
  {
   "cell_type": "code",
   "execution_count": 2,
   "metadata": {},
   "outputs": [],
   "source": [
    "import videodb\n",
    "conn = videodb.connect(api_key=\"\")"
   ]
  },
  {
   "cell_type": "markdown",
   "metadata": {},
   "source": [
    "<div style=\"height:40px;\"></div>\n",
    "\n",
    "### Idenfied Sections\n",
    "---\n",
    "Here’s the list of safe timestamps of the  10-minute video from the TV show \"The Breaking Bad\". check out our 👉 [blog](https://docs.videodb.io/ensure-a-safe-and-family-friendly-viewing-experience-with-videod-6) where we walk through the entire process of using AWS Rekognition API, you can also look for other solutions. "
   ]
  },
  {
   "cell_type": "code",
   "execution_count": 3,
   "metadata": {},
   "outputs": [],
   "source": [
    "safe_shots  = [[0, 102], [104, 119], [122, 188], [192, 197], [202, 202], [207, 209], [223, 225], [231, 234], [245, 273], [275, 275], [277, 280], [282, 291], [293, 382], [384, 396], [398, 402], [405, 438], [440, 473], [475, 532], [534, 545], [547, 558]]"
   ]
  },
  {
   "cell_type": "markdown",
   "metadata": {},
   "source": [
    "<div style=\"height:40px;\"></div>\n",
    "\n",
    "### Removing unsafe visual sections using VideoDB\n",
    "---\n",
    "\n",
    "* First, We will upload our video to VideoDB  \n",
    "* Then create a clip which contains only Safe Shots from the video by passing timeline in `Video.generate_stream()` \n",
    "* you can use  `play_stream()`  to play the video"
   ]
  },
  {
   "cell_type": "code",
   "execution_count": 4,
   "metadata": {},
   "outputs": [],
   "source": [
    "video_url_yt = \"https://www.youtube.com/watch?v=Xa7UaHgOGfM\"\n",
    "video = conn.upload(url=video_url_yt)"
   ]
  },
  {
   "cell_type": "markdown",
   "metadata": {},
   "source": [
    "### Let's play the video"
   ]
  },
  {
   "cell_type": "code",
   "execution_count": 5,
   "metadata": {},
   "outputs": [
    {
     "data": {
      "text/plain": [
       "'https://console.videodb.io/player?url=https://d27qzqw9ehjjni.cloudfront.net/v3/published/manifests/75da6b6d-03db-4bb1-a937-88b78871aa00.m3u8'"
      ]
     },
     "execution_count": 5,
     "metadata": {},
     "output_type": "execute_result"
    }
   ],
   "source": [
    "video.play()"
   ]
  },
  {
   "cell_type": "code",
   "execution_count": 7,
   "metadata": {},
   "outputs": [],
   "source": [
    "### Remove unsafe sections and generate stream"
   ]
  },
  {
   "cell_type": "code",
   "execution_count": 8,
   "metadata": {},
   "outputs": [],
   "source": [
    "stream_link = video.generate_stream(timeline=safe_shots)  "
   ]
  },
  {
   "cell_type": "markdown",
   "metadata": {},
   "source": [
    "<div style=\"height:40px;\"></div>\n",
    "\n",
    "### View the Results in VideoDB Player\n",
    "---\n",
    "\n",
    "`stream_link` is viewable by `play_stream()`.  "
   ]
  },
  {
   "cell_type": "code",
   "execution_count": 9,
   "metadata": {},
   "outputs": [
    {
     "data": {
      "text/plain": [
       "'https://console.videodb.io/player?url=https://d27qzqw9ehjjni.cloudfront.net/v3/published/manifests/a00eebb4-a751-4807-83c5-c0eab7bdbf04.m3u8'"
      ]
     },
     "execution_count": 9,
     "metadata": {},
     "output_type": "execute_result"
    }
   ],
   "source": [
    "from videodb import play_stream\n",
    "play_stream(stream_link)"
   ]
  }
 ],
 "metadata": {
  "kernelspec": {
   "display_name": "Python 3 (ipykernel)",
   "language": "python",
   "name": "python3"
  },
  "language_info": {
   "codemirror_mode": {
    "name": "ipython",
    "version": 3
   },
   "file_extension": ".py",
   "mimetype": "text/x-python",
   "name": "python",
   "nbconvert_exporter": "python",
   "pygments_lexer": "ipython3",
   "version": "3.12.0"
  }
 },
 "nbformat": 4,
 "nbformat_minor": 4
}

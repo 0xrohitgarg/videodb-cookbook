{
 "cells": [
  {
   "cell_type": "markdown",
   "metadata": {},
   "source": [
    "### Overview\n",
    "\n",
    "<a href=\"https://colab.research.google.com/github/video-db/videodb-cookbook/blob/main/examples/inserting_clips.ipynb\" target=\"_parent\"><img src=\"https://colab.research.google.com/assets/colab-badge.svg\" alt=\"Open In Colab\"/></a>\n",
    "\n",
    "Video files are not very flexible if we want to change the flow and insert another video at a certain place. Imagine putting a video advertisement on your video stream for your customers. You don’t need to edit the video file and create another one.\n",
    "\n",
    "`VideoDB` simplifies it for you. It gives you power to build contextualize Ad insertion and personalized Ad insertion on your videos. \n",
    "\n"
   ]
  },
  {
   "cell_type": "markdown",
   "metadata": {},
   "source": [
    "<div style=\"height:40px;\"></div>\n",
    "\n",
    "### Setup\n",
    "---\n",
    "#### 🔧 Installing VideoDB in your environment\n",
    "\n",
    "VideoDB is available as [python package 📦](https://pypi.org/project/videodb/)"
   ]
  },
  {
   "cell_type": "code",
   "execution_count": null,
   "metadata": {},
   "outputs": [],
   "source": [
    "!pip install videodb"
   ]
  },
  {
   "cell_type": "markdown",
   "metadata": {},
   "source": [
    "#### 🔗 Setting Up a connection to db\n",
    "\n",
    "To connect to `VideoDB`, simply create a `Connection` object.\n",
    "\n",
    "This can be done by either providing your VideoDB API key directly to the constructor or by setting the `VIDEO_DB_API_KEY` environment variable with your API key.\n",
    "\n",
    ">💡\n",
    ">Get your API key from [VideoDB Console](https://console.videodb.io). ( Free for first 50 uploads, No credit card required ) 🎉."
   ]
  },
  {
   "cell_type": "code",
   "execution_count": 1,
   "metadata": {},
   "outputs": [],
   "source": [
    "import videodb\n",
    "conn = videodb.connect(api_key=\"YOUR_API_KEY\")"
   ]
  },
  {
   "cell_type": "markdown",
   "metadata": {},
   "source": [
    "<div style=\"height:40px;\"></div>\n",
    "\n",
    "### Uploading our videos to VideoDB\n",
    "---\n",
    "\n",
    "Let’s have a base video as Sam Altman’s conversation on OpenAI and AGI. We’ll choose another video to insert in this 👉 (  let’s get IBM’s Advertisement) . We are going to insert the Ad video into the base video at a specific timestamp. \n",
    "\n",
    "For this, we will need to first upload both the videos to VideoDB"
   ]
  },
  {
   "cell_type": "code",
   "execution_count": 2,
   "metadata": {},
   "outputs": [],
   "source": [
    "base_video_url = \"https://www.youtube.com/watch?v=e1cf58VWzt8\"\n",
    "ad_video_url = \"https://www.youtube.com/watch?v=jtwduf2lh08\"\n",
    "\n",
    "base_video = conn.upload(url=base_video_url)\n",
    "ad_video = conn.upload(url=ad_video_url)"
   ]
  },
  {
   "cell_type": "markdown",
   "metadata": {},
   "source": [
    "<div style=\"height:40px;\"></div>\n",
    "\n",
    "### Inserting Ad in our Base Video\n",
    "---\n",
    "Now that we have both the videos uploaded,  Inserting into another becomes incredibly straightforward using VideoDB \n",
    "\n",
    "For instance, let's say we wish to insert our clip at the 20-second mark in the video's timeline. "
   ]
  },
  {
   "cell_type": "code",
   "execution_count": 3,
   "metadata": {},
   "outputs": [],
   "source": [
    "stream_link = base_video.insert_video(ad_video, 20)"
   ]
  },
  {
   "cell_type": "markdown",
   "metadata": {},
   "source": [
    "<div style=\"height:40px;\"></div>\n",
    "\n",
    "### View the Results in VideoDB Player\n",
    "---\n",
    "\n",
    "`stream_link` is viewable by `play_stream()`.  "
   ]
  },
  {
   "cell_type": "code",
   "execution_count": 4,
   "metadata": {},
   "outputs": [
    {
     "data": {
      "text/plain": [
       "'https://console.videodb.io/player?url=https://d27qzqw9ehjjni.cloudfront.net/v3/published/manifests/e7847074-0222-469a-b4d7-80ec6d0ff169.m3u8'"
      ]
     },
     "execution_count": 4,
     "metadata": {},
     "output_type": "execute_result"
    }
   ],
   "source": [
    "from videodb import play_stream\n",
    "play_stream(stream_link)"
   ]
  }
 ],
 "metadata": {
  "kernelspec": {
   "display_name": "venv",
   "language": "python",
   "name": "python3"
  },
  "language_info": {
   "codemirror_mode": {
    "name": "ipython",
    "version": 3
   },
   "file_extension": ".py",
   "mimetype": "text/x-python",
   "name": "python",
   "nbconvert_exporter": "python",
   "pygments_lexer": "ipython3",
   "version": "3.9.12"
  }
 },
 "nbformat": 4,
 "nbformat_minor": 2
}

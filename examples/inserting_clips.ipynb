{
 "cells": [
  {
   "cell_type": "markdown",
   "metadata": {},
   "source": [
    "### Overview\n",
    "\n",
    "<a href=\"https://colab.research.google.com/github/video-db/videodb-cookbook/blob/main/examples/ad_insertion_part1.ipynb\" target=\"_parent\"><img src=\"https://colab.research.google.com/assets/colab-badge.svg\" alt=\"Open In Colab\"/></a>\n",
    "\n",
    "In this tutorial we're going to whip up some multimedia magic. ✨\n",
    "\n",
    "We are going to use videodb to insert a simple advertisment in a video.\n",
    "\n",
    "Say goodbye to the cumbersome tools of traditional video editing – we're doing things the VideoDb way!\n",
    "\n"
   ]
  },
  {
   "cell_type": "markdown",
   "metadata": {},
   "source": [
    "### Setup\n",
    "\n",
    "To get started, we need to install videodb to our python environment:"
   ]
  },
  {
   "cell_type": "code",
   "execution_count": null,
   "metadata": {},
   "outputs": [],
   "source": [
    "!pip install videodb"
   ]
  },
  {
   "cell_type": "markdown",
   "metadata": {},
   "source": [
    "##### 🔗 Setting Up a connection to db\n",
    "To connect to VideoDB, simply create a `Connection` object. \n",
    "\n",
    "This can be done by either providing your VideoDB API key directly to the constructor or by setting the `VIDEO_DB_API_KEY` environment variable with your API key. \n",
    "\n",
    ">💡\n",
    ">Get your API key from [VideoDB Console](https://console.videodb.io). ( Free for first 50 uploads, No credit card required ) 🎉."
   ]
  },
  {
   "cell_type": "code",
   "execution_count": 2,
   "metadata": {},
   "outputs": [],
   "source": [
    "from videodb import connect, play_stream\n",
    "conn = connect(api_key=\"\")"
   ]
  },
  {
   "cell_type": "markdown",
   "metadata": {},
   "source": [
    "### Uploading our videos to videodb\n",
    "\n",
    "We have a base video into which we intend to insert an advertisement. \n",
    "\n",
    "Additionally, we have a separate video that serves as our target advertisement. Our goal is to embed this advertisement into the base video at a specific timestamp. \n",
    "\n",
    "For this process, we will need to upload both videos to VideoDB"
   ]
  },
  {
   "cell_type": "code",
   "execution_count": 8,
   "metadata": {},
   "outputs": [],
   "source": [
    "base_video_url = \"https://www.youtube.com/watch?v=e1cf58VWzt8\"\n",
    "ad_video_url = \"https://www.youtube.com/watch?v=--khbXchTeE\"\n",
    "\n",
    "base_vid = conn.upload(url=base_video_url)\n",
    "ad_video = conn.upload(url=ad_video_url)"
   ]
  },
  {
   "cell_type": "markdown",
   "metadata": {},
   "source": [
    "### Inserting ad video to base_video\n",
    "\n",
    "Inserting a video into another video becomes incredibly straightforward using VideoDB.\n",
    "\n",
    "For instance, let's say we wish to insert our clip at the 10-second mark in the video's timeline.\n",
    "\n",
    "In the resulting video, the inserted clip will begin to play at 10 seconds into the base video's timeline.\n"
   ]
  },
  {
   "cell_type": "code",
   "execution_count": null,
   "metadata": {},
   "outputs": [],
   "source": [
    "insert_timestamp = 10\n",
    "stream_link = base_vid.insert_video(ad_video, insert_timestamp)"
   ]
  },
  {
   "cell_type": "markdown",
   "metadata": {},
   "source": [
    "### Playing our resulting video.\n",
    "\n",
    "You can play your videos directly on videodb Player. "
   ]
  },
  {
   "cell_type": "code",
   "execution_count": null,
   "metadata": {},
   "outputs": [],
   "source": [
    "play_stream(stream_link)"
   ]
  },
  {
   "cell_type": "markdown",
   "metadata": {},
   "source": [
    "You can also open the final video in your browser "
   ]
  }
 ],
 "metadata": {
  "kernelspec": {
   "display_name": "venv",
   "language": "python",
   "name": "python3"
  },
  "language_info": {
   "codemirror_mode": {
    "name": "ipython",
    "version": 3
   },
   "file_extension": ".py",
   "mimetype": "text/x-python",
   "name": "python",
   "nbconvert_exporter": "python",
   "pygments_lexer": "ipython3",
   "version": "3.9.12"
  }
 },
 "nbformat": 4,
 "nbformat_minor": 2
}

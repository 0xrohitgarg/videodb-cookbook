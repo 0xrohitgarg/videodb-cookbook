{
 "cells": [
  {
   "cell_type": "markdown",
   "metadata": {},
   "source": [
    "## AWS Rekognition and VideoDB - Effortlessly Remove Inappropriate Content from Video\n",
    "---\n",
    "\n",
    "This section of our cookbook demonstrates a method for using video analysis to identify sections of inappropriate content, then remove them from video \n",
    "\n",
    "🥡 Key components of this technique include::\n",
    "- **AWS Rekognition API**: The [StartContentModeration](https://docs.aws.amazon.com/rekognition/latest/APIReference/API_StartContentModeration.html) endpoint of the AWS Rekognition API will be used to scan the video and detect inappropriate content.\n",
    "- **VideoDB**: This tool will be used for storing the video in a database specifically designed for videos. It also aids in extracting clips an removing section of video.\n",
    "\n",
    "\n",
    "We will collect timestamps where inappropriate content is present in video, then using videodb to filter out inappropriate content,  **without needing to touch video editor, waiting in render queue and instantly playable**\n"
   ]
  },
  {
   "cell_type": "markdown",
   "metadata": {},
   "source": [
    "## Setup\n",
    "---"
   ]
  },
  {
   "cell_type": "markdown",
   "metadata": {
    "id": "jREYq-aUBkaz"
   },
   "source": [
    "### Installing Required Packages\n",
    "\n",
    "To ensure our Python environment has the necessary tools, we need to install following packages:\n",
    "- boto3: to use aws services such as [S3](https://docs.aws.amazon.com/s3/) and [AWS rekognition api](https://docs.aws.amazon.com/rekognition/)\n",
    "- pytube: for downloading YouTube Videos.\n",
    "- VideoDB : to access videodb"
   ]
  },
  {
   "cell_type": "code",
   "execution_count": null,
   "metadata": {},
   "outputs": [],
   "source": [
    "!pip install -U boto3 pytube requests videodb"
   ]
  },
  {
   "cell_type": "markdown",
   "metadata": {},
   "source": [
    "### Helper functions"
   ]
  },
  {
   "cell_type": "code",
   "execution_count": 3,
   "metadata": {
    "id": "w6OjXNT4RzvJ"
   },
   "outputs": [],
   "source": [
    "import requests\n",
    "import pytube\n",
    "import os\n",
    "import datetime\n",
    "import time\n",
    "import json\n",
    "\n",
    "#Downlaods Youtube video\n",
    "def download_video_yt(youtube_url, output_file=\"video.mp4\"):\n",
    "    youtube_object = pytube.YouTube(youtube_url)\n",
    "    video_stream = youtube_object.streams.get_highest_resolution()\n",
    "    video_stream.download(filename=output_file)\n",
    "    print(f\"Downloaded video to: {output_file}\")\n",
    "    return output_file"
   ]
  },
  {
   "cell_type": "markdown",
   "metadata": {},
   "source": [
    "## ⚙️ Configuartion\n",
    "We must set up AWS and the VideoDB api keys."
   ]
  },
  {
   "cell_type": "markdown",
   "metadata": {},
   "source": [
    "### 🔗 Setting Up a connection to db\n",
    "\n",
    "To connect to `VideoDB`, simply create a `Connection` object.\n",
    "\n",
    "This can be done by either providing your VideoDB API key directly to the constructor or by setting the `VIDEO_DB_API_KEY` environment variable with your API key.\n",
    "\n",
    "> 💡 Your API key is available in the [VideoDB dashboard](https://console.videodb.io)"
   ]
  },
  {
   "cell_type": "code",
   "execution_count": 1,
   "metadata": {},
   "outputs": [],
   "source": [
    "from videodb import connect, play_stream\n",
    "conn = connect(api_key=\"\")"
   ]
  },
  {
   "cell_type": "markdown",
   "metadata": {},
   "source": [
    "### AWS Configuration\n",
    "\n",
    "- AWS secrets like `aws_secret_key_id`, `aws_secret_access_key` and `aws_reigon` \n",
    "- Ensure your AWS user has access to necessary policies like : `AmazonRekognitionFullAccess` and `AmazonS3FullAccess`"
   ]
  },
  {
   "cell_type": "code",
   "execution_count": null,
   "metadata": {
    "id": "XZyx_7Q4R7WH"
   },
   "outputs": [],
   "source": [
    "import boto3\n",
    "\n",
    "aws_access_key_id= \"YOUR_AWS_KEY_ID\"\n",
    "aws_secret_access_key = \"YOUR_AWS_SECRET_KEY\" \n",
    "region_name = \"YOUR_AWS_REIGON\"\n",
    "\n",
    "bucket_name = \"videorekog\"\n",
    "\n",
    "rekognition_client = boto3.client(\n",
    "    \"rekognition\",\n",
    "    aws_access_key_id=aws_access_key_id,\n",
    "    aws_secret_access_key=aws_secret_access_key,\n",
    "    region_name=region_name,\n",
    ")\n",
    "s3 = boto3.client('s3',\n",
    "    aws_access_key_id=aws_access_key_id,\n",
    "    aws_secret_access_key=aws_secret_access_key,\n",
    "    region_name=region_name,\n",
    ")"
   ]
  },
  {
   "cell_type": "markdown",
   "metadata": {},
   "source": [
    "### Downloading media\n",
    "\n",
    "Our task involves downloading a YouTube video, with a focus on removing any parts that might not be suitable for all audiences, commonly known as Content Moderation.\n",
    "\n",
    "In this demonstration, we're going to download a 10-minute clip from the TV show \"The Breaking Bad,\" aiming to remove violence, gore, and inappropriate content from the video.\n",
    "\n",
    "<div style=\"background-color: #ffffcc; color: black; padding: 10px; border-radius: 5px;\">\n",
    "    <strong>Note:</strong> Please be mindful in selecting your YouTube video, as we are utilizing a premium API service. Opting for a longer video could result in extra charges.\n",
    "</div>"
   ]
  },
  {
   "cell_type": "code",
   "execution_count": 5,
   "metadata": {},
   "outputs": [
    {
     "name": "stdout",
     "output_type": "stream",
     "text": [
      "Downloaded video to: video.mp4\n"
     ]
    },
    {
     "data": {
      "text/plain": [
       "'video.mp4'"
      ]
     },
     "execution_count": 5,
     "metadata": {},
     "output_type": "execute_result"
    }
   ],
   "source": [
    "video_url_yt = \"https://www.youtube.com/watch?v=Xa7UaHgOGfM\"\n",
    "video_output = \"video.mp4\"\n",
    "\n",
    "download_video_yt(video_url_yt, video_output)\n"
   ]
  },
  {
   "cell_type": "markdown",
   "metadata": {},
   "source": [
    "## Rekognition API Workflow\n",
    "\n",
    "- Upload a video to S3 Bucket and Start Content moderation using [StartContentModeration](https://docs.aws.amazon.com/rekognition/latest/APIReference/API_StartContentModeration.html)"
   ]
  },
  {
   "cell_type": "code",
   "execution_count": null,
   "metadata": {
    "id": "5xYXGQDIR-s-"
   },
   "outputs": [],
   "source": [
    "# Define function to start face search in video\n",
    "def start_content_moderation(video_path, bucket_name):\n",
    "    response = rekognition_client.start_content_moderation(\n",
    "        Video={\"S3Object\": {\"Bucket\": bucket_name, \"Name\": video_path}}\n",
    "    )\n",
    "\n",
    "    return response[\"JobId\"]\n",
    "\n",
    "\n",
    "# Define function to get face search results\n",
    "def get_content_moderation(job_id):\n",
    "    wait_for = 5\n",
    "    pagination_finished = False\n",
    "    next_token = \"\"\n",
    "    response = {\n",
    "        \"ModerationLabels\" : []\n",
    "    }\n",
    "    while not pagination_finished:\n",
    "        print(next_token)\n",
    "        moderation_res = rekognition_client.get_content_moderation(JobId=job_id, NextToken = next_token)\n",
    "        status = moderation_res[\"JobStatus\"]\n",
    "        next_token = moderation_res.get(\"NextToken\", \"\")\n",
    "        if status == \"IN_PROGRESS\":\n",
    "            time.sleep(wait_for)\n",
    "        elif status == \"SUCCEEDED\" :\n",
    "            print(moderation_res)\n",
    "            if (not next_token):\n",
    "              pagination_finished = True\n",
    "            response[\"ModerationLabels\"].extend(moderation_res[\"ModerationLabels\"])\n",
    "    return response\n",
    "\n",
    "#Upload Target video to S3 Bucket\n",
    "s3.create_bucket(Bucket=bucket_name)\n",
    "s3.upload_file(video_output, bucket_name, video_output)\n",
    "\n",
    "#Start Content Moderation using Rekognition API \n",
    "job_id = start_content_moderation(video_output, bucket_name )\n",
    "print(job_id)\n",
    "moderation_res = get_content_moderation(job_id)\n",
    "print(moderation_res)\n"
   ]
  },
  {
   "cell_type": "markdown",
   "metadata": {},
   "source": [
    "### Preparing clips timestamps\n",
    "\n",
    "The Rekognition API flags moments in a video that are inappropriate, unwanted, or offensive by providing timestamps. Our objective is to consolidate timestamps that belong to the same sequence.\n",
    "\n",
    "Though the [AWS Segment API](https://docs.aws.amazon.com/rekognition/latest/dg/segment-api.html) offers a method for this, we will employ a more straightforward strategy.\n",
    "\n",
    "If the gap between two consecutive timestamps is less than a `threshold`, they will be combined into a single continuous scene. To ensure thorough coverage, we'll also introduce a `padding` on both the right and left sides of each scene.\n",
    "\n",
    "Then, we need to do a compliment operation on video from inappropriate clips to get appropriate and safe content clips.\n",
    "\n",
    "Feel free to adjust the `threshold` and `padding` settings to optimize the results."
   ]
  },
  {
   "cell_type": "code",
   "execution_count": 20,
   "metadata": {},
   "outputs": [
    {
     "name": "stdout",
     "output_type": "stream",
     "text": [
      "[[0, 102], [104, 119], [122, 188], [192, 197], [202, 202], [207, 209], [223, 225], [231, 234], [245, 273], [275, 275], [277, 280], [282, 291], [293, 382], [384, 396], [398, 402], [405, 438], [440, 473], [475, 532], [534, 545], [547, 558]]\n"
     ]
    }
   ],
   "source": [
    "timestamps = []\n",
    "threshold = 1\n",
    "padding = 1\n",
    "\n",
    "for label in moderation_res[\"ModerationLabels\"]:\n",
    "  timestamp = label[\"Timestamp\"]/1000\n",
    "  timestamps.append(round(timestamp))\n",
    "\n",
    "def merge_timestamps(numbers, threshold, padding):\n",
    "    grouped_numbers = []\n",
    "    end_last_segment = 0\n",
    "    current_group = [numbers[0]]\n",
    "\n",
    "    for i in range(1, len(numbers)):\n",
    "        # if timestamp is with threshold from previous timestamp, consolidate them under same group\n",
    "        if numbers[i] - numbers[i-1] <= threshold:\n",
    "            current_group.append(numbers[i])\n",
    "            \n",
    "        # else put last group's end and this group's start in result clips  \n",
    "        else:\n",
    "            start_segment = current_group[0] - padding\n",
    "            end_segment = current_group[-1] + padding\n",
    "            grouped_numbers.append([end_last_segment, start_segment])\n",
    "            end_last_segment = end_segment\n",
    "            current_group = [numbers[i]]\n",
    "\n",
    "    grouped_numbers.append([end_last_segment, numbers[-1]])\n",
    "    return grouped_numbers\n",
    "\n",
    "shots = merge_timestamps(timestamps,threshold=threshold,padding=padding)\n",
    "print(shots)"
   ]
  },
  {
   "cell_type": "markdown",
   "metadata": {},
   "source": [
    "\n",
    "### Removing inappropriate content from video Using VideoDB \n",
    "\n",
    "The idea behind VideoDB is straightforward: it functions as a database specifically for videos. Similar to how you upload tables or JSON data to a standard database, you can upload your videos to videodb. You can also retrieve your videos through queries, much like accessing regular data from a database.\n",
    "\n",
    "Additionally, VideoDB enables you to swiftly create clips from your videos, ensuring a ⚡️ process, just like retreiving text data from a db.\n",
    "\n",
    "For this demo, we'll be uploading our clip from \"The Breaking Bad\" to `VideoDB`.\n",
    "\n",
    "Following this, we will compile a master clip composed of smaller segments that depict appropriate contents only (i.e excluding inappropriate portions of clips from video)"
   ]
  },
  {
   "cell_type": "code",
   "execution_count": 22,
   "metadata": {},
   "outputs": [
    {
     "name": "stdout",
     "output_type": "stream",
     "text": [
      "https://console.dev.videodb.io/player?url=https://dseetlpshk2tb.cloudfront.net/v3/published/manifests/9ec3d1e9-499f-488a-b8b2-f2880f35d1a6.m3u8\n"
     ]
    }
   ],
   "source": [
    "video = conn.upload(url=video_url_yt)\n",
    "stream_link = video.generate_stream(timeline=shots)\n",
    "play_stream(stream_link)"
   ]
  }
 ],
 "metadata": {
  "colab": {
   "provenance": []
  },
  "kernelspec": {
   "display_name": "Python 3 (ipykernel)",
   "language": "python",
   "name": "python3"
  },
  "language_info": {
   "codemirror_mode": {
    "name": "ipython",
    "version": 3
   },
   "file_extension": ".py",
   "mimetype": "text/x-python",
   "name": "python",
   "nbconvert_exporter": "python",
   "pygments_lexer": "ipython3",
   "version": "3.12.0"
  }
 },
 "nbformat": 4,
 "nbformat_minor": 4
}

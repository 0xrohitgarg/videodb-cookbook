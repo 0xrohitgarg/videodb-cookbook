{
 "cells": [
  {
   "cell_type": "markdown",
   "id": "2ee616dc-4bb4-4f79-aab4-26c8995a62e7",
   "metadata": {},
   "source": [
    "### Overview\n",
    "\n",
    "Dubbing videos is a great strategy for your existing content. This guide is here to help you explore localizing content or just enjoy remixing your favorite videos into new versions.\n",
    "\n",
    "Focus is on how to replace the soundtrack with ease if you alerady have the dubbed content. \n",
    "\n",
    "If you are looking for AI solutions for dubbing the soundtrack, please wait for part-2 of this tutorial. \n"
   ]
  },
  {
   "cell_type": "markdown",
   "id": "fc962a65-26be-4d46-bbc4-7fa85cfac170",
   "metadata": {},
   "source": [
    "### Prerequisites\n",
    "Ensure you have VideoDB installed in your environment. If not, simply run `!pip install videodb` in your terminal. \n",
    "\n",
    "You'll also need a `VideoDB API key`, which can be obtained from the VideoDB console."
   ]
  },
  {
   "cell_type": "markdown",
   "id": "8c5307d0-9717-47f0-97e1-e8f611ff9e83",
   "metadata": {},
   "source": [
    "### Step 1: Source Your Videos\n",
    "First, identify the original video and the new audio track you wish to overlay. For this tutorial, we're using an English video and a Hindi audio track:"
   ]
  },
  {
   "cell_type": "code",
   "execution_count": 35,
   "id": "f3f423a4-47d8-4d76-b999-7bd774b0fd12",
   "metadata": {},
   "outputs": [],
   "source": [
    "# Original video in English\n",
    "english_audio = 'https://www.youtube.com/watch?v=0e3GPea1Tyg'\n",
    "\n",
    "# New audio track in Hindi\n",
    "hindi_audio = 'https://www.youtube.com/watch?v=IoDVfXFq5cU'\n"
   ]
  },
  {
   "cell_type": "markdown",
   "id": "4c8132ac-247f-44a6-b6de-d0c7acd22a03",
   "metadata": {},
   "source": [
    "### Step 2: Connect to VideoDB\n",
    "Connect to VideoDB using your API key. This establishes a session for uploading and manipulating video and audio files:\n",
    "\n"
   ]
  },
  {
   "cell_type": "code",
   "execution_count": 36,
   "id": "3aa868ec-58dc-4334-89c0-c4b21e8ef12b",
   "metadata": {},
   "outputs": [],
   "source": [
    "#connect to videodb\n",
    "from videodb import connect\n",
    "from videodb import MediaType\n",
    "conn = connect(api_key=\" \")"
   ]
  },
  {
   "cell_type": "markdown",
   "id": "a4f48e4d-14cc-4fde-ab18-8d4ca44013e9",
   "metadata": {},
   "source": [
    "### Step 3: Upload and Prepare Media\n",
    "Upload both the original video and the new audio track to VideoDB. Specify the `media_type` for the audio to ensure only the soundtrack is used:"
   ]
  },
  {
   "cell_type": "code",
   "execution_count": 37,
   "id": "8d4d4220-94e9-457c-9bd3-625a128c6d5b",
   "metadata": {},
   "outputs": [],
   "source": [
    "# Upload the original video\n",
    "video = conn.upload(url=english_audio)\n",
    "\n",
    "# Upload and extract audio from the new track\n",
    "audio = conn.upload(url=hindi_audio, media_type=MediaType.audio)\n"
   ]
  },
  {
   "cell_type": "markdown",
   "id": "d8d4a5c3-190c-4160-ab1e-cd244301ae20",
   "metadata": {},
   "source": [
    "### Step 4: Create and Customize Your Timeline\n",
    "Create a new timeline and add your video. Then, overlay the new audio track, replacing the original audio:"
   ]
  },
  {
   "cell_type": "code",
   "execution_count": 38,
   "id": "85e48e11-076f-437a-94c7-aa62c9f32e9a",
   "metadata": {},
   "outputs": [],
   "source": [
    "from videodb.asset import VideoAsset, AudioAsset\n",
    "from videodb.timeline import Timeline\n",
    "\n",
    "# create a new timeline\n",
    "timeline = Timeline(conn)\n",
    "\n",
    "#create video asset with full length\n",
    "video_asset = VideoAsset(asset_id=video.id)\n",
    "\n",
    "# add original video inline\n",
    "timeline.add_inline(video_asset)"
   ]
  },
  {
   "cell_type": "code",
   "execution_count": 39,
   "id": "a73f4303-bfef-46cd-b151-a35ee78fd8a9",
   "metadata": {},
   "outputs": [],
   "source": [
    "# create an audio asset from 0 sec to the full length of the video .\n",
    "hindi_audio_asset = AudioAsset(asset_id=audio.id, disable_other_tracks=True)\n",
    "\n",
    "# add overlay starting from 0 sec in the timeline as we want to replace the full track.\n",
    "timeline.add_overlay(0, hindi_audio_asset)"
   ]
  },
  {
   "cell_type": "markdown",
   "id": "6da18992-f453-4ba0-b26a-83f83365598d",
   "metadata": {},
   "source": [
    "### Step 5: Review and Share Your Dubbed Video\n",
    "Finally, generate a stream of your newly dubbed video and share the link for others to view:"
   ]
  },
  {
   "cell_type": "code",
   "execution_count": 40,
   "id": "30caa500-c565-4ae5-ae3a-d7b5541b077d",
   "metadata": {},
   "outputs": [
    {
     "data": {
      "text/plain": [
       "'https://console.videodb.io/player?url=https://stream.videodb.io/v3/published/manifests/5dd7e078-0ecb-4b23-89bd-968e557c98a6.m3u8'"
      ]
     },
     "execution_count": 40,
     "metadata": {},
     "output_type": "execute_result"
    }
   ],
   "source": [
    "from videodb import play_stream\n",
    "play_stream(hindi_dub_stream)"
   ]
  },
  {
   "cell_type": "markdown",
   "id": "34e390f2-084e-430d-b62c-e425735c3ba5",
   "metadata": {},
   "source": [
    "### Generating Dubbed Audio with AI\n",
    "If you don't have a ready-made audio track, consider using AI solutions like Eleven Labs to generate dubbed audio in various languages and voices.\n",
    "\n",
    "With VideoDB, dubbing videos is as straightforward as querying a database. Enjoy creating and sharing your dubbed video content!"
   ]
  }
 ],
 "metadata": {
  "kernelspec": {
   "display_name": "Python 3 (ipykernel)",
   "language": "python",
   "name": "python3"
  },
  "language_info": {
   "codemirror_mode": {
    "name": "ipython",
    "version": 3
   },
   "file_extension": ".py",
   "mimetype": "text/x-python",
   "name": "python",
   "nbconvert_exporter": "python",
   "pygments_lexer": "ipython3",
   "version": "3.12.0"
  }
 },
 "nbformat": 4,
 "nbformat_minor": 5
}

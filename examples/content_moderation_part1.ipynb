{
 "cells": [
  {
   "cell_type": "markdown",
   "metadata": {},
   "source": [
    "### Overview\n",
    "\n",
    "<a href=\"https://colab.research.google.com/github/video-db/videodb-cookbook/blob/main/examples/content_moderation_part1.ipynb\" target=\"_parent\"><img src=\"https://colab.research.google.com/assets/colab-badge.svg\" alt=\"Open In Colab\"/></a>\n",
    "\n",
    "Let’s have some fun with multimedia.  \n",
    "We are going to use VideoDB to remove unwanted sections of videos from video.  \n",
    "No need for fancy editing software or waiting around – you get to see your video right away. ⚡️  \n",
    "\n",
    "\n",
    "Welcome to the easy way of handling videos with VideoDB! ✨  \n",
    "Want to know more about VideoDB? Read on [here](https://videodb.io)"
   ]
  },
  {
   "cell_type": "markdown",
   "metadata": {},
   "source": [
    "### Workflow\n",
    "\n",
    "1. For our demonstration, we've selected a 9-minute clip from Youtube that may contain some alchohol visual scenes . You can view the clip here: [Stop Drinking Alcohol now](https://www.youtube.com/watch?v=DE9K5N18rf0)\n",
    "2. We've done some analysis on this video and identified specific times when inappropriate video content appears. This was achieved using AWS Rekognition API. If you're curious about the full process, including how to find visual inappropriate content in a video, check out our [blog](https://docs.videodb.io/ensure-a-safe-and-family-friendly-viewing-experience-with-videod-6) where we walk through the entire process.\n",
    "3. In this blog post, however, we're going to skip the details of video analysis and jump straight to the timestamps.\n",
    "4. We've analyzed the appearances of visually inappropriate content, and then relatively computed the section  of video which are safe.\n",
    "5. Next, we'll upload the video to VideoDb and use these timestamps to clip the video. It's as easy as querying a database, but for videos ⚡️!"
   ]
  },
  {
   "cell_type": "markdown",
   "metadata": {},
   "source": [
    "### Setup\n",
    "\n",
    "To get started, we need to install VideoDB to our python environment:"
   ]
  },
  {
   "cell_type": "code",
   "execution_count": null,
   "metadata": {},
   "outputs": [],
   "source": [
    "!pip install videodb"
   ]
  },
  {
   "cell_type": "markdown",
   "metadata": {},
   "source": [
    "### Configuration\n",
    "\n",
    "We need to setup VideoDB connection, so that we store our video in VideoDB and then later on clip (clipping is as simple as a db query with VideoDB 😉🤌)\n",
    "\n",
    "we need `api_key` to setup a connection (if you haven't already, grab yours from [console.videodb.io](https://console.videodb.io))"
   ]
  },
  {
   "cell_type": "code",
   "execution_count": 5,
   "metadata": {},
   "outputs": [],
   "source": [
    "import videodb \n",
    "import os\n",
    "\n",
    "VIDEO_DB_API_KEY = os.environ.get(\"VIDEODB_API_KEY\", \"\")\n",
    "base_url = \"https://api.videodb.io\"\n",
    "\n",
    "#Setup up a connection to database\n",
    "videodb_conn = videodb.connect(base_url=base_url, api_key=VIDEO_DB_API_KEY)"
   ]
  },
  {
   "cell_type": "markdown",
   "metadata": {},
   "source": [
    "### Video analysis data\n",
    "We have analyzed the content of video and extracted out timestamps which appears to be safe."
   ]
  },
  {
   "cell_type": "code",
   "execution_count": 6,
   "metadata": {},
   "outputs": [],
   "source": [
    "safe_shots  = [[0, 7], [12, 53], [58, 60], [70, 242], [244, 260], [262, 263], [271, 388], [395, 543]]"
   ]
  },
  {
   "cell_type": "markdown",
   "metadata": {},
   "source": [
    "### Removing unsafe visual sections using VideoDB\n",
    "\n",
    "For this step, we will upload our video to VideoDB first and then create clips of each safe shots and then merge them to get a final video which has all unsafe content removed \n",
    "\n",
    "if you pass timeline of your clip in `Video.get_stream()` , you will get a streaming link of a your clip as a response ( in less than 3s 😉)"
   ]
  },
  {
   "cell_type": "code",
   "execution_count": 7,
   "metadata": {},
   "outputs": [
    {
     "data": {
      "text/plain": [
       "'https://dseetlpshk2tb.cloudfront.net/v3/published/manifests/1e069200-5150-45d1-8f61-87f7dc50becb.m3u8'"
      ]
     },
     "execution_count": 7,
     "metadata": {},
     "output_type": "execute_result"
    }
   ],
   "source": [
    "video_url_yt_sv = \"https://www.youtube.com/watch?v=DE9K5N18rf0\"\n",
    "vid = videodb_conn.upload(url=video_url_yt_sv)\n",
    "vid.generate_stream(timeline=safe_shots)  "
   ]
  },
  {
   "cell_type": "markdown",
   "metadata": {},
   "source": [
    "### View the Results in Videodb Player\n",
    "\n",
    "`Video.play()` returns a link that is instantly viewable in browser.  \n",
    "You can also embed this link into your website as an iframe for seamless integration."
   ]
  },
  {
   "cell_type": "code",
   "execution_count": 8,
   "metadata": {},
   "outputs": [
    {
     "name": "stdout",
     "output_type": "stream",
     "text": [
      "https://console.dev.videodb.io/player?url=https://dseetlpshk2tb.cloudfront.net/v3/published/manifests/1e069200-5150-45d1-8f61-87f7dc50becb.m3u8\n"
     ]
    },
    {
     "data": {
      "text/html": [
       "\n",
       "        <iframe\n",
       "            width=\"800\"\n",
       "            height=\"400\"\n",
       "            src=\"https://console.dev.videodb.io/player?url=https://dseetlpshk2tb.cloudfront.net/v3/published/manifests/1e069200-5150-45d1-8f61-87f7dc50becb.m3u8\"\n",
       "            frameborder=\"0\"\n",
       "            allowfullscreen\n",
       "            \n",
       "        ></iframe>\n",
       "        "
      ],
      "text/plain": [
       "<IPython.lib.display.IFrame at 0x7fc478ccf280>"
      ]
     },
     "execution_count": 8,
     "metadata": {},
     "output_type": "execute_result"
    }
   ],
   "source": [
    "from IPython.display import IFrame \n",
    "\n",
    "player_url = vid.play()\n",
    "print(player_url)\n",
    "\n",
    "\n",
    "player_width = 800\n",
    "player_height = 400\n",
    "\n",
    "IFrame(player_url, player_width, player_height)"
   ]
  }
 ],
 "metadata": {
  "kernelspec": {
   "display_name": "venv",
   "language": "python",
   "name": "python3"
  },
  "language_info": {
   "codemirror_mode": {
    "name": "ipython",
    "version": 3
   },
   "file_extension": ".py",
   "mimetype": "text/x-python",
   "name": "python",
   "nbconvert_exporter": "python",
   "pygments_lexer": "ipython3",
   "version": "3.9.12"
  }
 },
 "nbformat": 4,
 "nbformat_minor": 2
}

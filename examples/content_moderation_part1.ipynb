{
 "cells": [
  {
   "cell_type": "markdown",
   "metadata": {},
   "source": [
    "### Overview\n",
    "\n",
    "<a href=\"https://colab.research.google.com/github/video-db/videodb-cookbook/blob/main/examples/content_moderation_part1.ipynb\" target=\"_parent\"><img src=\"https://colab.research.google.com/assets/colab-badge.svg\" alt=\"Open In Colab\"/></a>\n",
    "\n",
    "In this notebook, We will see how to remove unwanted sections from a video using [VideoDB](https://videodb.io)"
   ]
  },
  {
   "cell_type": "markdown",
   "metadata": {},
   "source": [
    "### Workflow\n",
    "---\n",
    "\n",
    "1. For our demonstration, we have selected a 10-minute clip from the TV show \"The Breaking Bad,\" aiming to remove sections from video which might not be appropriate for all viewers. You can view the clip [here](https://www.youtube.com/watch?v=Xa7UaHgOGfM)\n",
    "2. We've done some analysis on this video and identified specific times when inappropriate video content appears. This was achieved using AWS Rekognition API. If you're curious about the full process, including how to find visual inappropriate content in a video, check out our [blog](https://docs.videodb.io/ensure-a-safe-and-family-friendly-viewing-experience-with-videod-6) where we walk through the entire process.\n",
    "3. In this blog post, however, we're going to skip the details of video analysis and jump straight to the timestamps.\n",
    "4. We've analyzed the appearances of visually inappropriate content, and then relatively computed the section  of video which are safe.\n",
    "5. Next, we'll upload the video to VideoDB and use these timestamps to clip the video. It's as easy as querying a database, but for videos ⚡️!"
   ]
  },
  {
   "cell_type": "markdown",
   "metadata": {},
   "source": [
    "<div style=\"height:40px;\"></div>\n",
    "\n",
    "### Setup\n",
    "---  "
   ]
  },
  {
   "cell_type": "markdown",
   "metadata": {},
   "source": [
    "#### 🔧 Installing VideoDB in your environment\n",
    "\n",
    "VideoDB is available as [python package 📦](https://pypi.org/project/videodb)  "
   ]
  },
  {
   "cell_type": "code",
   "execution_count": null,
   "metadata": {},
   "outputs": [],
   "source": [
    "!pip install videodb"
   ]
  },
  {
   "cell_type": "markdown",
   "metadata": {},
   "source": [
    "#### 🔗 Setting Up a connection to db\n",
    "To connect to VideoDB, simply create a `Connection` object. \n",
    "\n",
    "This can be done by either providing your VideoDB API key directly to the constructor or by setting the `VIDEO_DB_API_KEY` environment variable with your API key. \n",
    "\n",
    ">💡\n",
    ">Get your API key from [VideoDB Console](https://console.videodb.io). ( Free for first 50 uploads, No credit card required ) 🎉."
   ]
  },
  {
   "cell_type": "code",
   "execution_count": 3,
   "metadata": {},
   "outputs": [],
   "source": [
    "import videodb\n",
    "conn = videodb.connect(api_key=\"YOUR_API_KEY\")"
   ]
  },
  {
   "cell_type": "markdown",
   "metadata": {},
   "source": [
    "<div style=\"height:40px;\"></div>\n",
    "\n",
    "### Idenfied Sections\n",
    "---\n",
    "Here’s the list of safe timestamps of the  10-minute video from the TV show \"The Breaking Bad\". check out our 👉 [blog](https://docs.videodb.io/ensure-a-safe-and-family-friendly-viewing-experience-with-videod-6) where we walk through the entire process of using AWS Rekognition API, you can also look for other solutions. "
   ]
  },
  {
   "cell_type": "code",
   "execution_count": 4,
   "metadata": {},
   "outputs": [],
   "source": [
    "safe_shots  = [[0, 102], [104, 119], [122, 188], [192, 197], [202, 202], [207, 209], [223, 225], [231, 234], [245, 273], [275, 275], [277, 280], [282, 291], [293, 382], [384, 396], [398, 402], [405, 438], [440, 473], [475, 532], [534, 545], [547, 558]]"
   ]
  },
  {
   "cell_type": "markdown",
   "metadata": {},
   "source": [
    "<div style=\"height:40px;\"></div>\n",
    "\n",
    "### Removing unsafe visual sections using VideoDB\n",
    "---\n",
    "\n",
    "* First, We will upload our video to VideoDB  \n",
    "* Then create a clip which contains only Safe Shots from the video by passing timeline in `Video.generate_stream()` \n",
    "* you can use  `play_stream()`  to play the video"
   ]
  },
  {
   "cell_type": "code",
   "execution_count": 5,
   "metadata": {},
   "outputs": [],
   "source": [
    "\n",
    "video_url_yt = \"https://www.youtube.com/watch?v=Xa7UaHgOGfM\"\n",
    "video = conn.upload(url=video_url_yt)\n",
    "stream_link = video.generate_stream(timeline=safe_shots)  "
   ]
  },
  {
   "cell_type": "markdown",
   "metadata": {},
   "source": [
    "<div style=\"height:40px;\"></div>\n",
    "\n",
    "### View the Results in VideoDB Player\n",
    "---\n",
    "\n",
    "`stream_link` is viewable by `play_stream()`.  "
   ]
  },
  {
   "cell_type": "code",
   "execution_count": 6,
   "metadata": {},
   "outputs": [
    {
     "data": {
      "text/plain": [
       "'https://console.videodb.io/player?url=https://d27qzqw9ehjjni.cloudfront.net/v3/published/manifests/03bd5758-d31f-45ec-9065-1c512484897a.m3u8'"
      ]
     },
     "execution_count": 6,
     "metadata": {},
     "output_type": "execute_result"
    }
   ],
   "source": [
    "from videodb import play_stream\n",
    "play_stream(stream_link)"
   ]
  }
 ],
 "metadata": {
  "kernelspec": {
   "display_name": "venv",
   "language": "python",
   "name": "python3"
  },
  "language_info": {
   "codemirror_mode": {
    "name": "ipython",
    "version": 3
   },
   "file_extension": ".py",
   "mimetype": "text/x-python",
   "name": "python",
   "nbconvert_exporter": "python",
   "pygments_lexer": "ipython3",
   "version": "3.9.12"
  }
 },
 "nbformat": 4,
 "nbformat_minor": 2
}
